{
 "cells": [
  {
   "cell_type": "code",
   "execution_count": 1,
   "outputs": [],
   "source": [
    "import numpy as np\n",
    "import pandas as pd\n",
    "import matplotlib.pyplot as plt\n",
    "import seaborn as sns"
   ],
   "metadata": {
    "collapsed": false
   }
  },
  {
   "cell_type": "markdown",
   "source": [
    "Reading in the Yelp dataset for reviews\n",
    "Contains full review text data including the user_id that wrote the review and the business_id the review is written for.\n",
    "\n",
    "{\n",
    "    // string, 22 character unique review id\n",
    "    \"review_id\": \"zdSx_SD6obEhz9VrW9uAWA\",\n",
    "\n",
    "    // string, 22 character unique user id, maps to the user in user.json\n",
    "    \"user_id\": \"Ha3iJu77CxlrFm-vQRs_8g\",\n",
    "\n",
    "    // string, 22 character business id, maps to business in business.json\n",
    "    \"business_id\": \"tnhfDv5Il8EaGSXZGiuQGg\",\n",
    "\n",
    "    // integer, star rating\n",
    "    \"stars\": 4,\n",
    "\n",
    "    // string, date formatted YYYY-MM-DD\n",
    "    \"date\": \"2016-03-09\",\n",
    "\n",
    "    // string, the review itself\n",
    "    \"text\": \"Great place to hang out after work: the prices are decent, and the ambience is fun. It's a bit loud, but very lively. The staff is friendly, and the food is good. They have a good selection of drinks.\",\n",
    "\n",
    "    // integer, number of useful votes received\n",
    "    \"useful\": 0,\n",
    "\n",
    "    // integer, number of funny votes received\n",
    "    \"funny\": 0,\n",
    "\n",
    "    // integer, number of cool votes received\n",
    "    \"cool\": 0\n",
    "}"
   ],
   "metadata": {
    "collapsed": false
   }
  },
  {
   "cell_type": "code",
   "execution_count": 2,
   "outputs": [
    {
     "name": "stderr",
     "output_type": "stream",
     "text": [
      "/var/folders/s6/l50_ct1972z4zhwpj0d6jh_m0000gn/T/ipykernel_15233/1021954955.py:1: DtypeWarning: Columns (0) have mixed types. Specify dtype option on import or set low_memory=False.\n",
      "  df = pd.read_csv('../DATA/archive (1)/yelp_review.csv')\n"
     ]
    }
   ],
   "source": [
    "df = pd.read_csv('../DATA/archive (1)/yelp_review.csv')"
   ],
   "metadata": {
    "collapsed": false
   }
  },
  {
   "cell_type": "code",
   "execution_count": 3,
   "outputs": [
    {
     "data": {
      "text/plain": "  Unnamed: 0               review_id                 user_id  \\\n0          0  KU_O5udG6zpxOg-VcAEodg  mh_-eMZ6K5RLWhZyISBhwA   \n1          1  BiTunyQ73aT9WBnpR9DZGw  OyoGAe7OKpv6SyGZT5g77Q   \n2          2  saUsX_uimxRlCVr67Z4Jig  8g_iMtfSiwikVnbP2etR0A   \n3          3  AqPFMleE6RsU23_auESxiA  _7bHUi9Uuf5__HHc_Q8guQ   \n4          4  Sx8TMOWLNuJBWer-0pcmoA  bcjbaE6dDog4jkNY91ncLQ   \n\n              business_id  stars  useful  funny  cool  \\\n0  XQfwVwDr-v0ZS3_CbbE5Xw    3.0     0.0    0.0   0.0   \n1  7ATYjTIgM3jUlt4UM3IypQ    5.0     1.0    0.0   1.0   \n2  YjUWPpI6HXG530lwP-fb2A    3.0     0.0    0.0   0.0   \n3  kxX2SOes4o-D3ZQBkiMRfA    5.0     1.0    0.0   1.0   \n4  e4Vwtrqf-wpJfwesgvdgxQ    4.0     1.0    0.0   1.0   \n\n                                                text                 date  \n0  If you decide to eat here, just be aware it is...  2018-07-07 22:09:11  \n1  I've taken a lot of spin classes over the year...  2012-01-03 15:28:18  \n2  Family diner. Had the buffet. Eclectic assortm...  2014-02-05 20:30:30  \n3  Wow!  Yummy, different,  delicious.   Our favo...  2015-01-04 00:01:03  \n4  Cute interior and owner (?) gave us tour of up...  2017-01-14 20:54:15  ",
      "text/html": "<div>\n<style scoped>\n    .dataframe tbody tr th:only-of-type {\n        vertical-align: middle;\n    }\n\n    .dataframe tbody tr th {\n        vertical-align: top;\n    }\n\n    .dataframe thead th {\n        text-align: right;\n    }\n</style>\n<table border=\"1\" class=\"dataframe\">\n  <thead>\n    <tr style=\"text-align: right;\">\n      <th></th>\n      <th>Unnamed: 0</th>\n      <th>review_id</th>\n      <th>user_id</th>\n      <th>business_id</th>\n      <th>stars</th>\n      <th>useful</th>\n      <th>funny</th>\n      <th>cool</th>\n      <th>text</th>\n      <th>date</th>\n    </tr>\n  </thead>\n  <tbody>\n    <tr>\n      <th>0</th>\n      <td>0</td>\n      <td>KU_O5udG6zpxOg-VcAEodg</td>\n      <td>mh_-eMZ6K5RLWhZyISBhwA</td>\n      <td>XQfwVwDr-v0ZS3_CbbE5Xw</td>\n      <td>3.0</td>\n      <td>0.0</td>\n      <td>0.0</td>\n      <td>0.0</td>\n      <td>If you decide to eat here, just be aware it is...</td>\n      <td>2018-07-07 22:09:11</td>\n    </tr>\n    <tr>\n      <th>1</th>\n      <td>1</td>\n      <td>BiTunyQ73aT9WBnpR9DZGw</td>\n      <td>OyoGAe7OKpv6SyGZT5g77Q</td>\n      <td>7ATYjTIgM3jUlt4UM3IypQ</td>\n      <td>5.0</td>\n      <td>1.0</td>\n      <td>0.0</td>\n      <td>1.0</td>\n      <td>I've taken a lot of spin classes over the year...</td>\n      <td>2012-01-03 15:28:18</td>\n    </tr>\n    <tr>\n      <th>2</th>\n      <td>2</td>\n      <td>saUsX_uimxRlCVr67Z4Jig</td>\n      <td>8g_iMtfSiwikVnbP2etR0A</td>\n      <td>YjUWPpI6HXG530lwP-fb2A</td>\n      <td>3.0</td>\n      <td>0.0</td>\n      <td>0.0</td>\n      <td>0.0</td>\n      <td>Family diner. Had the buffet. Eclectic assortm...</td>\n      <td>2014-02-05 20:30:30</td>\n    </tr>\n    <tr>\n      <th>3</th>\n      <td>3</td>\n      <td>AqPFMleE6RsU23_auESxiA</td>\n      <td>_7bHUi9Uuf5__HHc_Q8guQ</td>\n      <td>kxX2SOes4o-D3ZQBkiMRfA</td>\n      <td>5.0</td>\n      <td>1.0</td>\n      <td>0.0</td>\n      <td>1.0</td>\n      <td>Wow!  Yummy, different,  delicious.   Our favo...</td>\n      <td>2015-01-04 00:01:03</td>\n    </tr>\n    <tr>\n      <th>4</th>\n      <td>4</td>\n      <td>Sx8TMOWLNuJBWer-0pcmoA</td>\n      <td>bcjbaE6dDog4jkNY91ncLQ</td>\n      <td>e4Vwtrqf-wpJfwesgvdgxQ</td>\n      <td>4.0</td>\n      <td>1.0</td>\n      <td>0.0</td>\n      <td>1.0</td>\n      <td>Cute interior and owner (?) gave us tour of up...</td>\n      <td>2017-01-14 20:54:15</td>\n    </tr>\n  </tbody>\n</table>\n</div>"
     },
     "execution_count": 3,
     "metadata": {},
     "output_type": "execute_result"
    }
   ],
   "source": [
    "df.head()"
   ],
   "metadata": {
    "collapsed": false
   }
  },
  {
   "cell_type": "code",
   "execution_count": 4,
   "outputs": [
    {
     "name": "stdout",
     "output_type": "stream",
     "text": [
      "<class 'pandas.core.frame.DataFrame'>\n",
      "RangeIndex: 6990282 entries, 0 to 6990281\n",
      "Data columns (total 10 columns):\n",
      " #   Column       Dtype  \n",
      "---  ------       -----  \n",
      " 0   Unnamed: 0   object \n",
      " 1   review_id    object \n",
      " 2   user_id      object \n",
      " 3   business_id  object \n",
      " 4   stars        float64\n",
      " 5   useful       float64\n",
      " 6   funny        float64\n",
      " 7   cool         float64\n",
      " 8   text         object \n",
      " 9   date         object \n",
      "dtypes: float64(4), object(6)\n",
      "memory usage: 533.3+ MB\n"
     ]
    }
   ],
   "source": [
    "df.info()"
   ],
   "metadata": {
    "collapsed": false
   }
  },
  {
   "cell_type": "markdown",
   "source": [
    "Since this project is concerned with the text reviews from the yelp dataset, the 'date', 'funny', and 'cool' columns\n",
    "will be dropped."
   ],
   "metadata": {
    "collapsed": false
   }
  },
  {
   "cell_type": "code",
   "execution_count": 5,
   "outputs": [],
   "source": [
    "df = df.drop('date', axis=1)"
   ],
   "metadata": {
    "collapsed": false
   }
  },
  {
   "cell_type": "code",
   "execution_count": 6,
   "outputs": [],
   "source": [
    "df = df.drop('funny', axis=1)\n",
    "df = df.drop('cool', axis=1)"
   ],
   "metadata": {
    "collapsed": false
   }
  },
  {
   "cell_type": "code",
   "execution_count": 7,
   "outputs": [
    {
     "name": "stdout",
     "output_type": "stream",
     "text": [
      "<class 'pandas.core.frame.DataFrame'>\n",
      "RangeIndex: 6990282 entries, 0 to 6990281\n",
      "Data columns (total 7 columns):\n",
      " #   Column       Dtype  \n",
      "---  ------       -----  \n",
      " 0   Unnamed: 0   object \n",
      " 1   review_id    object \n",
      " 2   user_id      object \n",
      " 3   business_id  object \n",
      " 4   stars        float64\n",
      " 5   useful       float64\n",
      " 6   text         object \n",
      "dtypes: float64(2), object(5)\n",
      "memory usage: 373.3+ MB\n"
     ]
    }
   ],
   "source": [
    "df.info()"
   ],
   "metadata": {
    "collapsed": false
   }
  },
  {
   "cell_type": "markdown",
   "source": [
    "Here we are checking and removing the empty/null entries"
   ],
   "metadata": {
    "collapsed": false
   }
  },
  {
   "cell_type": "code",
   "execution_count": 8,
   "outputs": [
    {
     "data": {
      "text/plain": "Unnamed: 0     0\nreview_id      1\nuser_id        2\nbusiness_id    2\nstars          2\nuseful         2\ntext           2\ndtype: int64"
     },
     "execution_count": 8,
     "metadata": {},
     "output_type": "execute_result"
    }
   ],
   "source": [
    "df.isna().sum()"
   ],
   "metadata": {
    "collapsed": false
   }
  },
  {
   "cell_type": "code",
   "execution_count": 5,
   "outputs": [],
   "source": [
    "df = df.drop('Unnamed: 0', axis=1)"
   ],
   "metadata": {
    "collapsed": false
   }
  },
  {
   "cell_type": "code",
   "execution_count": 10,
   "outputs": [
    {
     "data": {
      "text/plain": "        review_id user_id business_id  stars  useful text\n2923303       NaN     NaN         NaN    NaN     NaN  NaN",
      "text/html": "<div>\n<style scoped>\n    .dataframe tbody tr th:only-of-type {\n        vertical-align: middle;\n    }\n\n    .dataframe tbody tr th {\n        vertical-align: top;\n    }\n\n    .dataframe thead th {\n        text-align: right;\n    }\n</style>\n<table border=\"1\" class=\"dataframe\">\n  <thead>\n    <tr style=\"text-align: right;\">\n      <th></th>\n      <th>review_id</th>\n      <th>user_id</th>\n      <th>business_id</th>\n      <th>stars</th>\n      <th>useful</th>\n      <th>text</th>\n    </tr>\n  </thead>\n  <tbody>\n    <tr>\n      <th>2923303</th>\n      <td>NaN</td>\n      <td>NaN</td>\n      <td>NaN</td>\n      <td>NaN</td>\n      <td>NaN</td>\n      <td>NaN</td>\n    </tr>\n  </tbody>\n</table>\n</div>"
     },
     "execution_count": 10,
     "metadata": {},
     "output_type": "execute_result"
    }
   ],
   "source": [
    "df[df['review_id'].isna()]"
   ],
   "metadata": {
    "collapsed": false
   }
  },
  {
   "cell_type": "code",
   "execution_count": 11,
   "outputs": [
    {
     "data": {
      "text/plain": "                   review_id user_id business_id  stars  useful text\n2923303                  NaN     NaN         NaN    NaN     NaN  NaN\n2923304  2016-03-21 19:31:55     NaN         NaN    NaN     NaN  NaN",
      "text/html": "<div>\n<style scoped>\n    .dataframe tbody tr th:only-of-type {\n        vertical-align: middle;\n    }\n\n    .dataframe tbody tr th {\n        vertical-align: top;\n    }\n\n    .dataframe thead th {\n        text-align: right;\n    }\n</style>\n<table border=\"1\" class=\"dataframe\">\n  <thead>\n    <tr style=\"text-align: right;\">\n      <th></th>\n      <th>review_id</th>\n      <th>user_id</th>\n      <th>business_id</th>\n      <th>stars</th>\n      <th>useful</th>\n      <th>text</th>\n    </tr>\n  </thead>\n  <tbody>\n    <tr>\n      <th>2923303</th>\n      <td>NaN</td>\n      <td>NaN</td>\n      <td>NaN</td>\n      <td>NaN</td>\n      <td>NaN</td>\n      <td>NaN</td>\n    </tr>\n    <tr>\n      <th>2923304</th>\n      <td>2016-03-21 19:31:55</td>\n      <td>NaN</td>\n      <td>NaN</td>\n      <td>NaN</td>\n      <td>NaN</td>\n      <td>NaN</td>\n    </tr>\n  </tbody>\n</table>\n</div>"
     },
     "execution_count": 11,
     "metadata": {},
     "output_type": "execute_result"
    }
   ],
   "source": [
    "df[(df['review_id'].isna()) | (df['user_id'].isna()) | (df['business_id'].isna()) | (df['stars'].isna()) | (df['useful']\n",
    "                                                                                                            .isna())\n",
    "   | (df['text'].isna()) ]"
   ],
   "metadata": {
    "collapsed": false
   }
  },
  {
   "cell_type": "code",
   "execution_count": 6,
   "outputs": [],
   "source": [
    "df = df.drop([2923303,2923304])"
   ],
   "metadata": {
    "collapsed": false
   }
  },
  {
   "cell_type": "code",
   "execution_count": 13,
   "outputs": [
    {
     "data": {
      "text/plain": "review_id      0\nuser_id        0\nbusiness_id    0\nstars          0\nuseful         0\ntext           0\ndtype: int64"
     },
     "execution_count": 13,
     "metadata": {},
     "output_type": "execute_result"
    }
   ],
   "source": [
    "df.isna().sum()"
   ],
   "metadata": {
    "collapsed": false
   }
  },
  {
   "cell_type": "code",
   "execution_count": 7,
   "outputs": [],
   "source": [
    "reviews = df[['stars', 'text']]"
   ],
   "metadata": {
    "collapsed": false
   }
  },
  {
   "cell_type": "code",
   "execution_count": 15,
   "outputs": [
    {
     "data": {
      "text/plain": "   stars                                               text\n0    3.0  If you decide to eat here, just be aware it is...\n1    5.0  I've taken a lot of spin classes over the year...\n2    3.0  Family diner. Had the buffet. Eclectic assortm...\n3    5.0  Wow!  Yummy, different,  delicious.   Our favo...\n4    4.0  Cute interior and owner (?) gave us tour of up...",
      "text/html": "<div>\n<style scoped>\n    .dataframe tbody tr th:only-of-type {\n        vertical-align: middle;\n    }\n\n    .dataframe tbody tr th {\n        vertical-align: top;\n    }\n\n    .dataframe thead th {\n        text-align: right;\n    }\n</style>\n<table border=\"1\" class=\"dataframe\">\n  <thead>\n    <tr style=\"text-align: right;\">\n      <th></th>\n      <th>stars</th>\n      <th>text</th>\n    </tr>\n  </thead>\n  <tbody>\n    <tr>\n      <th>0</th>\n      <td>3.0</td>\n      <td>If you decide to eat here, just be aware it is...</td>\n    </tr>\n    <tr>\n      <th>1</th>\n      <td>5.0</td>\n      <td>I've taken a lot of spin classes over the year...</td>\n    </tr>\n    <tr>\n      <th>2</th>\n      <td>3.0</td>\n      <td>Family diner. Had the buffet. Eclectic assortm...</td>\n    </tr>\n    <tr>\n      <th>3</th>\n      <td>5.0</td>\n      <td>Wow!  Yummy, different,  delicious.   Our favo...</td>\n    </tr>\n    <tr>\n      <th>4</th>\n      <td>4.0</td>\n      <td>Cute interior and owner (?) gave us tour of up...</td>\n    </tr>\n  </tbody>\n</table>\n</div>"
     },
     "execution_count": 15,
     "metadata": {},
     "output_type": "execute_result"
    }
   ],
   "source": [
    "reviews.head()"
   ],
   "metadata": {
    "collapsed": false
   }
  },
  {
   "cell_type": "code",
   "execution_count": 16,
   "outputs": [
    {
     "data": {
      "text/plain": "stars    0\ntext     0\ndtype: int64"
     },
     "execution_count": 16,
     "metadata": {},
     "output_type": "execute_result"
    }
   ],
   "source": [
    "reviews.isna().sum()"
   ],
   "metadata": {
    "collapsed": false
   }
  },
  {
   "cell_type": "code",
   "execution_count": 8,
   "outputs": [],
   "source": [
    "label_reviews = df[['stars', 'useful']]"
   ],
   "metadata": {
    "collapsed": false
   }
  },
  {
   "cell_type": "markdown",
   "source": [
    "This scatterplot visualizes the quantity of useful reviews that correspond to a star rating"
   ],
   "metadata": {
    "collapsed": false
   }
  },
  {
   "cell_type": "code",
   "execution_count": 18,
   "outputs": [
    {
     "data": {
      "text/plain": "<AxesSubplot:xlabel='stars', ylabel='useful'>"
     },
     "execution_count": 18,
     "metadata": {},
     "output_type": "execute_result"
    },
    {
     "data": {
      "text/plain": "<Figure size 432x288 with 1 Axes>",
      "image/png": "[encoded data removed]"
     },
     "metadata": {},
     "output_type": "display_data"
    }
   ],
   "source": [
    "sns.scatterplot(data=label_reviews, x = label_reviews['stars'], y = label_reviews['useful'])"
   ],
   "metadata": {
    "collapsed": false
   }
  },
  {
   "cell_type": "markdown",
   "source": [
    "This countplot visualizes the number of reviews for each star rating"
   ],
   "metadata": {
    "collapsed": false
   }
  },
  {
   "cell_type": "code",
   "execution_count": 19,
   "outputs": [
    {
     "data": {
      "text/plain": "<AxesSubplot:xlabel='stars', ylabel='count'>"
     },
     "execution_count": 19,
     "metadata": {},
     "output_type": "execute_result"
    },
    {
     "data": {
      "text/plain": "<Figure size 432x288 with 1 Axes>",
      "image/png": "[encoded data removed]"
     },
     "metadata": {},
     "output_type": "display_data"
    }
   ],
   "source": [
    "sns.countplot(data=label_reviews, x= label_reviews['stars'])"
   ],
   "metadata": {
    "collapsed": false
   }
  },
  {
   "cell_type": "markdown",
   "source": [
    "The libraries that are to be used for the NLP model are imported here.\n",
    "\n",
    "In this project we are utilizing Count vectorization, A TfidfVectorizer to streamline the process of NLP, as well as\n",
    "Multinomial Naive Bayes"
   ],
   "metadata": {
    "collapsed": false
   }
  },
  {
   "cell_type": "code",
   "execution_count": 9,
   "outputs": [],
   "source": [
    "from sklearn.feature_extraction.text import TfidfVectorizer, CountVectorizer"
   ],
   "metadata": {
    "collapsed": false
   }
  },
  {
   "cell_type": "code",
   "execution_count": 10,
   "outputs": [],
   "source": [
    "reviews_short = reviews"
   ],
   "metadata": {
    "collapsed": false
   }
  },
  {
   "cell_type": "code",
   "execution_count": 11,
   "outputs": [],
   "source": [
    "from sklearn.model_selection import train_test_split\n",
    "from sklearn.pipeline import Pipeline"
   ],
   "metadata": {
    "collapsed": false
   }
  },
  {
   "cell_type": "code",
   "execution_count": 12,
   "outputs": [],
   "source": [
    "X = reviews_short['text']\n",
    "y = reviews_short['stars']"
   ],
   "metadata": {
    "collapsed": false
   }
  },
  {
   "cell_type": "code",
   "execution_count": 35,
   "outputs": [],
   "source": [
    "X_train, X_test, y_train, y_test = train_test_split(X,y, test_size=0.3, random_state=101)"
   ],
   "metadata": {
    "collapsed": false
   }
  },
  {
   "cell_type": "code",
   "execution_count": 38,
   "outputs": [
    {
     "name": "stdout",
     "output_type": "stream",
     "text": [
      "<class 'pandas.core.series.Series'>\n",
      "Int64Index: 4893196 entries, 274906 to 3322721\n",
      "Series name: text\n",
      "Non-Null Count    Dtype \n",
      "--------------    ----- \n",
      "4893196 non-null  object\n",
      "dtypes: object(1)\n",
      "memory usage: 74.7+ MB\n"
     ]
    }
   ],
   "source": [
    "X_train.info()"
   ],
   "metadata": {
    "collapsed": false
   }
  },
  {
   "cell_type": "code",
   "execution_count": 14,
   "outputs": [],
   "source": [
    "from sklearn.naive_bayes import MultinomialNB"
   ],
   "metadata": {
    "collapsed": false
   }
  },
  {
   "cell_type": "code",
   "execution_count": 15,
   "outputs": [],
   "source": [
    "steps = [('tfidf', TfidfVectorizer(stop_words='english')),('nb', MultinomialNB())]\n",
    "pipe = Pipeline(steps=steps)"
   ],
   "metadata": {
    "collapsed": false
   }
  },
  {
   "cell_type": "code",
   "execution_count": 16,
   "outputs": [
    {
     "data": {
      "text/plain": "Pipeline(steps=[('tfidf', TfidfVectorizer(stop_words='english')),\n                ('nb', MultinomialNB())])"
     },
     "execution_count": 16,
     "metadata": {},
     "output_type": "execute_result"
    }
   ],
   "source": [
    "pipe.fit(X_train, y_train)"
   ],
   "metadata": {
    "collapsed": false
   }
  },
  {
   "cell_type": "code",
   "execution_count": 37,
   "outputs": [],
   "source": [
    "preds = pipe.predict(X_test)"
   ],
   "metadata": {
    "collapsed": false
   }
  },
  {
   "cell_type": "code",
   "execution_count": 41,
   "outputs": [],
   "source": [
    "from sklearn.metrics import classification_report, confusion_matrix, ConfusionMatrixDisplay"
   ],
   "metadata": {
    "collapsed": false
   }
  },
  {
   "cell_type": "markdown",
   "source": [
    "Classification Report to check the accuracy of the model"
   ],
   "metadata": {
    "collapsed": false
   }
  },
  {
   "cell_type": "code",
   "execution_count": 19,
   "outputs": [
    {
     "name": "stdout",
     "output_type": "stream",
     "text": [
      "              precision    recall  f1-score   support\n",
      "\n",
      "         1.0       0.67      0.79      0.73    320123\n",
      "         2.0       0.40      0.04      0.07    162987\n",
      "         3.0       0.32      0.04      0.06    207569\n",
      "         4.0       0.37      0.23      0.29    436422\n",
      "         5.0       0.65      0.94      0.77    969983\n",
      "\n",
      "    accuracy                           0.61   2097084\n",
      "   macro avg       0.48      0.41      0.38   2097084\n",
      "weighted avg       0.54      0.61      0.54   2097084\n",
      "\n"
     ]
    }
   ],
   "source": [
    "print(classification_report(y_test, preds))"
   ],
   "metadata": {
    "collapsed": false
   }
  },
  {
   "cell_type": "code",
   "execution_count": 45,
   "outputs": [
    {
     "data": {
      "text/plain": "array([[ 471788,  218891],\n       [  62388, 1344017]])"
     },
     "execution_count": 45,
     "metadata": {},
     "output_type": "execute_result"
    }
   ],
   "source": [
    "cm_whole = confusion_matrix(y_test, preds)\n",
    "cm_whole"
   ],
   "metadata": {
    "collapsed": false
   }
  },
  {
   "cell_type": "code",
   "execution_count": 46,
   "outputs": [
    {
     "data": {
      "text/plain": "<sklearn.metrics._plot.confusion_matrix.ConfusionMatrixDisplay at 0x7fbe22db0790>"
     },
     "execution_count": 46,
     "metadata": {},
     "output_type": "execute_result"
    },
    {
     "data": {
      "text/plain": "<Figure size 1200x800 with 0 Axes>"
     },
     "metadata": {},
     "output_type": "display_data"
    },
    {
     "data": {
      "text/plain": "<Figure size 432x288 with 2 Axes>",
      "image/png": "[encoded data removed]"
     },
     "metadata": {},
     "output_type": "display_data"
    }
   ],
   "source": [
    "disp_cm_whole = ConfusionMatrixDisplay(confusion_matrix=cm_whole)\n",
    "disp_cm_whole.plot()"
   ],
   "metadata": {
    "collapsed": false
   }
  },
  {
   "cell_type": "markdown",
   "source": [
    "Sample test of the model"
   ],
   "metadata": {
    "collapsed": false
   }
  },
  {
   "cell_type": "code",
   "execution_count": 46,
   "outputs": [
    {
     "data": {
      "text/plain": "array([5., 1.])"
     },
     "execution_count": 46,
     "metadata": {},
     "output_type": "execute_result"
    }
   ],
   "source": [
    "pipe.predict(['amazing food but I wanted more', 'It was the worse thing I have ever eaten'])"
   ],
   "metadata": {
    "collapsed": false
   }
  },
  {
   "cell_type": "markdown",
   "source": [
    "Testing to see the correlation of a review and it's usefulness to see if useful reviews make the model any more\n",
    "accurate"
   ],
   "metadata": {
    "collapsed": false
   }
  },
  {
   "cell_type": "code",
   "execution_count": 20,
   "outputs": [
    {
     "data": {
      "text/plain": "                      review_id                 user_id  \\\n1        BiTunyQ73aT9WBnpR9DZGw  OyoGAe7OKpv6SyGZT5g77Q   \n3        AqPFMleE6RsU23_auESxiA  _7bHUi9Uuf5__HHc_Q8guQ   \n4        Sx8TMOWLNuJBWer-0pcmoA  bcjbaE6dDog4jkNY91ncLQ   \n5        JrIxlS1TzJ-iCu79ul40cQ  eUta8W_HdHMXPzLBBZhL1A   \n8        ZKvDG2sBvHVdF5oBNUOpAQ  wSTuiTk-sKNdcFyprzZAjg   \n...                         ...                     ...   \n6990274  wD5ZWao_vjyT2h4xmGam8Q  7L7GL5Pi2cf8mbm2Dpw4zw   \n6990275  zHZ-A1qyKDEgyZMDaD--wg  _XVdmFWSgTN6YlojUxixTA   \n6990277  H0RIamZu0B0Ei0P4aeh3sQ  qskILQ3k0I_qcCMI-k6_QQ   \n6990279  YNfNhgZlaaCO5Q_YJR4rEw  mm6E4FbCMwJmb7kPDZ5v2Q   \n6990280  i-I4ZOhoX70Nw5H0FwrQUA  YwAMC-jvZ1fvEUum6QkEkw   \n\n                    business_id  stars  useful  funny  cool  \\\n1        7ATYjTIgM3jUlt4UM3IypQ    5.0     1.0    0.0   1.0   \n3        kxX2SOes4o-D3ZQBkiMRfA    5.0     1.0    0.0   1.0   \n4        e4Vwtrqf-wpJfwesgvdgxQ    4.0     1.0    0.0   1.0   \n5        04UD14gamNjLY0IDYVhHJg    1.0     1.0    2.0   1.0   \n8        B5XSoSG3SfvQGtKEGQ1tSQ    3.0     1.0    1.0   0.0   \n...                         ...    ...     ...    ...   ...   \n6990274  e_E-jq9mwm7wk75k7Yi-Xw    5.0     1.0    0.0   1.0   \n6990275  6WaI-IN8ql0xpEKlb4q8tg    5.0     1.0    0.0   0.0   \n6990277  jals67o91gcrD4DC81Vk6w    5.0     1.0    2.0   1.0   \n6990279  R1khUUxidqfaJmcpmGd4aw    4.0     1.0    0.0   0.0   \n6990280  Rr9kKArrMhSLVE9a53q-aA    5.0     1.0    0.0   0.0   \n\n                                                      text  \\\n1        I've taken a lot of spin classes over the year...   \n3        Wow!  Yummy, different,  delicious.   Our favo...   \n4        Cute interior and owner (?) gave us tour of up...   \n5        I am a long term frequent customer of this est...   \n8        This easter instead of going to Lopez Lake we ...   \n...                                                    ...   \n6990274  It is very rare for a restaurant to be this go...   \n6990275  We redesigned my moms dress and mad it complet...   \n6990277  Latest addition to services from ICCU is Apple...   \n6990279  This Home Depot won me over when I needed to g...   \n6990280  For when I'm feeling like ignoring my calorie-...   \n\n                        date  \n1        2012-01-03 15:28:18  \n3        2015-01-04 00:01:03  \n4        2017-01-14 20:54:15  \n5        2015-09-23 23:10:31  \n8        2016-03-30 22:46:33  \n...                      ...  \n6990274  2022-01-17 22:36:01  \n6990275  2022-01-17 20:59:01  \n6990277  2014-12-17 21:45:20  \n6990279  2019-12-30 03:56:30  \n6990280  2022-01-19 18:59:27  \n\n[1539953 rows x 9 columns]",
      "text/html": "<div>\n<style scoped>\n    .dataframe tbody tr th:only-of-type {\n        vertical-align: middle;\n    }\n\n    .dataframe tbody tr th {\n        vertical-align: top;\n    }\n\n    .dataframe thead th {\n        text-align: right;\n    }\n</style>\n<table border=\"1\" class=\"dataframe\">\n  <thead>\n    <tr style=\"text-align: right;\">\n      <th></th>\n      <th>review_id</th>\n      <th>user_id</th>\n      <th>business_id</th>\n      <th>stars</th>\n      <th>useful</th>\n      <th>funny</th>\n      <th>cool</th>\n      <th>text</th>\n      <th>date</th>\n    </tr>\n  </thead>\n  <tbody>\n    <tr>\n      <th>1</th>\n      <td>BiTunyQ73aT9WBnpR9DZGw</td>\n      <td>OyoGAe7OKpv6SyGZT5g77Q</td>\n      <td>7ATYjTIgM3jUlt4UM3IypQ</td>\n      <td>5.0</td>\n      <td>1.0</td>\n      <td>0.0</td>\n      <td>1.0</td>\n      <td>I've taken a lot of spin classes over the year...</td>\n      <td>2012-01-03 15:28:18</td>\n    </tr>\n    <tr>\n      <th>3</th>\n      <td>AqPFMleE6RsU23_auESxiA</td>\n      <td>_7bHUi9Uuf5__HHc_Q8guQ</td>\n      <td>kxX2SOes4o-D3ZQBkiMRfA</td>\n      <td>5.0</td>\n      <td>1.0</td>\n      <td>0.0</td>\n      <td>1.0</td>\n      <td>Wow!  Yummy, different,  delicious.   Our favo...</td>\n      <td>2015-01-04 00:01:03</td>\n    </tr>\n    <tr>\n      <th>4</th>\n      <td>Sx8TMOWLNuJBWer-0pcmoA</td>\n      <td>bcjbaE6dDog4jkNY91ncLQ</td>\n      <td>e4Vwtrqf-wpJfwesgvdgxQ</td>\n      <td>4.0</td>\n      <td>1.0</td>\n      <td>0.0</td>\n      <td>1.0</td>\n      <td>Cute interior and owner (?) gave us tour of up...</td>\n      <td>2017-01-14 20:54:15</td>\n    </tr>\n    <tr>\n      <th>5</th>\n      <td>JrIxlS1TzJ-iCu79ul40cQ</td>\n      <td>eUta8W_HdHMXPzLBBZhL1A</td>\n      <td>04UD14gamNjLY0IDYVhHJg</td>\n      <td>1.0</td>\n      <td>1.0</td>\n      <td>2.0</td>\n      <td>1.0</td>\n      <td>I am a long term frequent customer of this est...</td>\n      <td>2015-09-23 23:10:31</td>\n    </tr>\n    <tr>\n      <th>8</th>\n      <td>ZKvDG2sBvHVdF5oBNUOpAQ</td>\n      <td>wSTuiTk-sKNdcFyprzZAjg</td>\n      <td>B5XSoSG3SfvQGtKEGQ1tSQ</td>\n      <td>3.0</td>\n      <td>1.0</td>\n      <td>1.0</td>\n      <td>0.0</td>\n      <td>This easter instead of going to Lopez Lake we ...</td>\n      <td>2016-03-30 22:46:33</td>\n    </tr>\n    <tr>\n      <th>...</th>\n      <td>...</td>\n      <td>...</td>\n      <td>...</td>\n      <td>...</td>\n      <td>...</td>\n      <td>...</td>\n      <td>...</td>\n      <td>...</td>\n      <td>...</td>\n    </tr>\n    <tr>\n      <th>6990274</th>\n      <td>wD5ZWao_vjyT2h4xmGam8Q</td>\n      <td>7L7GL5Pi2cf8mbm2Dpw4zw</td>\n      <td>e_E-jq9mwm7wk75k7Yi-Xw</td>\n      <td>5.0</td>\n      <td>1.0</td>\n      <td>0.0</td>\n      <td>1.0</td>\n      <td>It is very rare for a restaurant to be this go...</td>\n      <td>2022-01-17 22:36:01</td>\n    </tr>\n    <tr>\n      <th>6990275</th>\n      <td>zHZ-A1qyKDEgyZMDaD--wg</td>\n      <td>_XVdmFWSgTN6YlojUxixTA</td>\n      <td>6WaI-IN8ql0xpEKlb4q8tg</td>\n      <td>5.0</td>\n      <td>1.0</td>\n      <td>0.0</td>\n      <td>0.0</td>\n      <td>We redesigned my moms dress and mad it complet...</td>\n      <td>2022-01-17 20:59:01</td>\n    </tr>\n    <tr>\n      <th>6990277</th>\n      <td>H0RIamZu0B0Ei0P4aeh3sQ</td>\n      <td>qskILQ3k0I_qcCMI-k6_QQ</td>\n      <td>jals67o91gcrD4DC81Vk6w</td>\n      <td>5.0</td>\n      <td>1.0</td>\n      <td>2.0</td>\n      <td>1.0</td>\n      <td>Latest addition to services from ICCU is Apple...</td>\n      <td>2014-12-17 21:45:20</td>\n    </tr>\n    <tr>\n      <th>6990279</th>\n      <td>YNfNhgZlaaCO5Q_YJR4rEw</td>\n      <td>mm6E4FbCMwJmb7kPDZ5v2Q</td>\n      <td>R1khUUxidqfaJmcpmGd4aw</td>\n      <td>4.0</td>\n      <td>1.0</td>\n      <td>0.0</td>\n      <td>0.0</td>\n      <td>This Home Depot won me over when I needed to g...</td>\n      <td>2019-12-30 03:56:30</td>\n    </tr>\n    <tr>\n      <th>6990280</th>\n      <td>i-I4ZOhoX70Nw5H0FwrQUA</td>\n      <td>YwAMC-jvZ1fvEUum6QkEkw</td>\n      <td>Rr9kKArrMhSLVE9a53q-aA</td>\n      <td>5.0</td>\n      <td>1.0</td>\n      <td>0.0</td>\n      <td>0.0</td>\n      <td>For when I'm feeling like ignoring my calorie-...</td>\n      <td>2022-01-19 18:59:27</td>\n    </tr>\n  </tbody>\n</table>\n<p>1539953 rows × 9 columns</p>\n</div>"
     },
     "execution_count": 20,
     "metadata": {},
     "output_type": "execute_result"
    }
   ],
   "source": [
    "useful_reviews = df[df['useful'] == 1]\n",
    "useful_reviews"
   ],
   "metadata": {
    "collapsed": false
   }
  },
  {
   "cell_type": "code",
   "execution_count": 21,
   "outputs": [],
   "source": [
    "c_vec = CountVectorizer(stop_words='english')"
   ],
   "metadata": {
    "collapsed": false
   }
  },
  {
   "cell_type": "code",
   "execution_count": 22,
   "outputs": [
    {
     "data": {
      "text/plain": "CountVectorizer(stop_words='english')"
     },
     "execution_count": 22,
     "metadata": {},
     "output_type": "execute_result"
    }
   ],
   "source": [
    "reviews = useful_reviews[['stars', 'text']]\n",
    "c_vec.fit(reviews['text'])"
   ],
   "metadata": {
    "collapsed": false
   }
  },
  {
   "cell_type": "markdown",
   "source": [
    "Here we are checking the top 20 words associated with the particular star rating.\n",
    "For example: the top 20 words associated with a 5 star review"
   ],
   "metadata": {
    "collapsed": false
   }
  },
  {
   "cell_type": "code",
   "execution_count": 50,
   "outputs": [
    {
     "name": "stdout",
     "output_type": "stream",
     "text": [
      "[('great', 384395), ('place', 311875), ('food', 298246), ('good', 251909), ('time', 196610), ('service', 194034), ('best', 171926), ('just', 166518), ('like', 157144), ('ve', 145979), ('amazing', 143699), ('love', 143402), ('delicious', 141823), ('really', 137714), ('friendly', 132443), ('staff', 126254), ('definitely', 115787), ('nice', 108561), ('got', 107424), ('recommend', 105459)]\n"
     ]
    }
   ],
   "source": [
    "matrix_5_stars = c_vec.transform(reviews[reviews['stars'] == 5]['text'])\n",
    "freqs = zip(c_vec.get_feature_names_out(), matrix_5_stars.sum(axis=0).tolist()[0])\n",
    "five_stars_top_20 = sorted(freqs, key=lambda x: -x[1])[:20]\n",
    "print(five_stars_top_20)\n"
   ],
   "metadata": {
    "collapsed": false
   }
  },
  {
   "cell_type": "code",
   "execution_count": 51,
   "outputs": [
    {
     "name": "stdout",
     "output_type": "stream",
     "text": [
      "[('good', 250674), ('food', 189924), ('great', 183775), ('place', 173889), ('like', 122364), ('really', 107056), ('just', 106317), ('time', 105053), ('service', 99754), ('nice', 89419), ('little', 75877), ('ve', 71328), ('got', 69553), ('delicious', 68811), ('ordered', 64663), ('chicken', 64320), ('definitely', 63918), ('menu', 61180), ('try', 60471), ('friendly', 59808)]\n"
     ]
    }
   ],
   "source": [
    "matrix_4_stars = c_vec.transform(reviews[reviews['stars'] == 4]['text'])\n",
    "freqs = zip(c_vec.get_feature_names_out(), matrix_4_stars.sum(axis=0).tolist()[0])\n",
    "four_stars_top_20 = sorted(freqs, key=lambda x: -x[1])[:20]\n",
    "print(four_stars_top_20)\n"
   ],
   "metadata": {
    "collapsed": false
   }
  },
  {
   "cell_type": "code",
   "execution_count": 52,
   "outputs": [
    {
     "name": "stdout",
     "output_type": "stream",
     "text": [
      "[('good', 130095), ('food', 114033), ('place', 84688), ('just', 79212), ('like', 76966), ('service', 60104), ('time', 56049), ('great', 55839), ('really', 55499), ('ordered', 42471), ('nice', 42065), ('got', 39240), ('pretty', 38145), ('don', 36128), ('little', 35988), ('didn', 35313), ('order', 34116), ('ve', 33468), ('chicken', 32589), ('came', 31803)]\n"
     ]
    }
   ],
   "source": [
    "matrix_3_stars = c_vec.transform(reviews[reviews['stars'] == 3]['text'])\n",
    "freqs = zip(c_vec.get_feature_names_out(), matrix_3_stars.sum(axis=0).tolist()[0])\n",
    "three_stars_top_20 = sorted(freqs, key=lambda x: -x[1])[:20]\n",
    "print(three_stars_top_20)\n"
   ],
   "metadata": {
    "collapsed": false
   }
  },
  {
   "cell_type": "code",
   "execution_count": 53,
   "outputs": [
    {
     "name": "stdout",
     "output_type": "stream",
     "text": [
      "[('food', 94432), ('good', 69481), ('just', 64916), ('place', 60798), ('like', 60761), ('service', 52265), ('time', 50811), ('ordered', 39169), ('really', 36683), ('order', 34234), ('got', 34131), ('didn', 32999), ('don', 31694), ('came', 30369), ('great', 29431), ('did', 28086), ('ve', 25766), ('better', 25470), ('minutes', 25116), ('restaurant', 24897)]\n"
     ]
    }
   ],
   "source": [
    "matrix_2_stars = c_vec.transform(reviews[reviews['stars'] == 2]['text'])\n",
    "freqs = zip(c_vec.get_feature_names_out(), matrix_2_stars.sum(axis=0).tolist()[0])\n",
    "two_stars_top_20 = sorted(freqs, key=lambda x: -x[1])[:20]\n",
    "print(two_stars_top_20)\n"
   ],
   "metadata": {
    "collapsed": false
   }
  },
  {
   "cell_type": "code",
   "execution_count": 54,
   "outputs": [
    {
     "name": "stdout",
     "output_type": "stream",
     "text": [
      "[('food', 117707), ('service', 101327), ('just', 98950), ('time', 98244), ('place', 96823), ('like', 84236), ('said', 77752), ('told', 76532), ('order', 69823), ('don', 65670), ('got', 61683), ('didn', 60050), ('did', 58188), ('asked', 57178), ('minutes', 56545), ('good', 55551), ('went', 52678), ('ordered', 51178), ('came', 50679), ('people', 47363)]\n"
     ]
    }
   ],
   "source": [
    "matrix_1_stars = c_vec.transform(reviews[reviews['stars'] == 1]['text'])\n",
    "freqs = zip(c_vec.get_feature_names_out(), matrix_1_stars.sum(axis=0).tolist()[0])\n",
    "one_stars_top_20 = sorted(freqs, key=lambda x: -x[1])[:20]\n",
    "print(one_stars_top_20)"
   ],
   "metadata": {
    "collapsed": false
   }
  },
  {
   "cell_type": "code",
   "execution_count": 23,
   "outputs": [],
   "source": [
    "X = reviews['text']\n",
    "y = reviews['stars']\n",
    "X_train, X_test, y_train, y_test = train_test_split(X, y, test_size=0.3, random_state=101)"
   ],
   "metadata": {
    "collapsed": false
   }
  },
  {
   "cell_type": "code",
   "execution_count": 24,
   "outputs": [
    {
     "data": {
      "text/plain": "Pipeline(steps=[('tfidf', TfidfVectorizer(stop_words='english')),\n                ('nb', MultinomialNB())])"
     },
     "execution_count": 24,
     "metadata": {},
     "output_type": "execute_result"
    }
   ],
   "source": [
    "steps = [('tfidf', TfidfVectorizer(stop_words='english')), ('nb', MultinomialNB())]\n",
    "pipe = Pipeline(steps=steps)\n",
    "pipe.fit(X_train, y_train)\n"
   ],
   "metadata": {
    "collapsed": false
   }
  },
  {
   "cell_type": "code",
   "execution_count": 25,
   "outputs": [],
   "source": [
    "preds = pipe.predict(X_test)"
   ],
   "metadata": {
    "collapsed": false
   }
  },
  {
   "cell_type": "markdown",
   "source": [
    "Here we see that only using the useful reviews makes our model slightly less accurate"
   ],
   "metadata": {
    "collapsed": false
   }
  },
  {
   "cell_type": "code",
   "execution_count": 26,
   "outputs": [
    {
     "name": "stdout",
     "output_type": "stream",
     "text": [
      "              precision    recall  f1-score   support\n",
      "\n",
      "         1.0       0.69      0.77      0.73     70733\n",
      "         2.0       0.44      0.01      0.03     37443\n",
      "         3.0       0.30      0.01      0.02     47577\n",
      "         4.0       0.35      0.20      0.25     99516\n",
      "         5.0       0.61      0.96      0.75    206717\n",
      "\n",
      "    accuracy                           0.59    461986\n",
      "   macro avg       0.48      0.39      0.36    461986\n",
      "weighted avg       0.52      0.59      0.50    461986\n",
      "\n"
     ]
    }
   ],
   "source": [
    "print(classification_report(y_test, preds))"
   ],
   "metadata": {
    "collapsed": false
   }
  },
  {
   "cell_type": "markdown",
   "source": [
    "Sample test of the model after filtering my review usefulness"
   ],
   "metadata": {
    "collapsed": false
   }
  },
  {
   "cell_type": "code",
   "execution_count": 59,
   "outputs": [
    {
     "data": {
      "text/plain": "array([1.])"
     },
     "execution_count": 59,
     "metadata": {},
     "output_type": "execute_result"
    }
   ],
   "source": [
    "pipe.predict(['The line was so long, and when I was finally seated, the waitress forgot about us and cussed us out'])"
   ],
   "metadata": {
    "collapsed": false
   }
  },
  {
   "cell_type": "markdown",
   "source": [
    "The final model will be trained to the entire dataset regardless of usefulness"
   ],
   "metadata": {
    "collapsed": false
   }
  },
  {
   "cell_type": "code",
   "execution_count": 60,
   "outputs": [],
   "source": [
    "final_model = pipe.fit(df['text'], df['stars'])"
   ],
   "metadata": {
    "collapsed": false
   }
  },
  {
   "cell_type": "code",
   "execution_count": 61,
   "outputs": [
    {
     "data": {
      "text/plain": "array([5.])"
     },
     "execution_count": 61,
     "metadata": {},
     "output_type": "execute_result"
    }
   ],
   "source": [
    "final_model.predict([\"I never want to eat here again\"])"
   ],
   "metadata": {
    "collapsed": false
   }
  },
  {
   "cell_type": "markdown",
   "source": [
    "Exporting the final model"
   ],
   "metadata": {
    "collapsed": false
   }
  },
  {
   "cell_type": "code",
   "execution_count": 62,
   "outputs": [],
   "source": [
    "import joblib"
   ],
   "metadata": {
    "collapsed": false
   }
  },
  {
   "cell_type": "code",
   "execution_count": 63,
   "outputs": [
    {
     "data": {
      "text/plain": "['yelp_review_model.pkl']"
     },
     "execution_count": 63,
     "metadata": {},
     "output_type": "execute_result"
    }
   ],
   "source": [
    "joblib.dump(final_model, 'yelp_review_model.pkl')"
   ],
   "metadata": {
    "collapsed": false
   }
  },
  {
   "cell_type": "code",
   "execution_count": 64,
   "outputs": [],
   "source": [
    "loaded_model = joblib.load('yelp_review_model.pkl')"
   ],
   "metadata": {
    "collapsed": false
   }
  },
  {
   "cell_type": "code",
   "execution_count": 65,
   "outputs": [
    {
     "data": {
      "text/plain": "1.0"
     },
     "execution_count": 65,
     "metadata": {},
     "output_type": "execute_result"
    }
   ],
   "source": [
    "loaded_model.predict([\"Wedge fries were super saturated with oil. Tried to send them back and waiter attempted to \"\n",
    "                      \"gaslight me into believing that it was normal due to the manner they were processed for \"\n",
    "                      \"cooking.  Whatever! I insisted that I was unhappy with the order and finally he relented and \"\n",
    "                      \"brought me a second order which were an improvement but by then, I had finished my sandwich.  Ugh. Don't appreciate having to make my case over why I won't consume poor quality food to the waiter.\"])[0]"
   ],
   "metadata": {
    "collapsed": false
   }
  },
  {
   "cell_type": "code",
   "execution_count": 66,
   "outputs": [
    {
     "data": {
      "text/plain": "                review_id                 user_id             business_id  \\\n0  KU_O5udG6zpxOg-VcAEodg  mh_-eMZ6K5RLWhZyISBhwA  XQfwVwDr-v0ZS3_CbbE5Xw   \n1  BiTunyQ73aT9WBnpR9DZGw  OyoGAe7OKpv6SyGZT5g77Q  7ATYjTIgM3jUlt4UM3IypQ   \n2  saUsX_uimxRlCVr67Z4Jig  8g_iMtfSiwikVnbP2etR0A  YjUWPpI6HXG530lwP-fb2A   \n3  AqPFMleE6RsU23_auESxiA  _7bHUi9Uuf5__HHc_Q8guQ  kxX2SOes4o-D3ZQBkiMRfA   \n4  Sx8TMOWLNuJBWer-0pcmoA  bcjbaE6dDog4jkNY91ncLQ  e4Vwtrqf-wpJfwesgvdgxQ   \n\n   stars  useful                                               text  \n0    3.0     0.0  If you decide to eat here, just be aware it is...  \n1    5.0     1.0  I've taken a lot of spin classes over the year...  \n2    3.0     0.0  Family diner. Had the buffet. Eclectic assortm...  \n3    5.0     1.0  Wow!  Yummy, different,  delicious.   Our favo...  \n4    4.0     1.0  Cute interior and owner (?) gave us tour of up...  ",
      "text/html": "<div>\n<style scoped>\n    .dataframe tbody tr th:only-of-type {\n        vertical-align: middle;\n    }\n\n    .dataframe tbody tr th {\n        vertical-align: top;\n    }\n\n    .dataframe thead th {\n        text-align: right;\n    }\n</style>\n<table border=\"1\" class=\"dataframe\">\n  <thead>\n    <tr style=\"text-align: right;\">\n      <th></th>\n      <th>review_id</th>\n      <th>user_id</th>\n      <th>business_id</th>\n      <th>stars</th>\n      <th>useful</th>\n      <th>text</th>\n    </tr>\n  </thead>\n  <tbody>\n    <tr>\n      <th>0</th>\n      <td>KU_O5udG6zpxOg-VcAEodg</td>\n      <td>mh_-eMZ6K5RLWhZyISBhwA</td>\n      <td>XQfwVwDr-v0ZS3_CbbE5Xw</td>\n      <td>3.0</td>\n      <td>0.0</td>\n      <td>If you decide to eat here, just be aware it is...</td>\n    </tr>\n    <tr>\n      <th>1</th>\n      <td>BiTunyQ73aT9WBnpR9DZGw</td>\n      <td>OyoGAe7OKpv6SyGZT5g77Q</td>\n      <td>7ATYjTIgM3jUlt4UM3IypQ</td>\n      <td>5.0</td>\n      <td>1.0</td>\n      <td>I've taken a lot of spin classes over the year...</td>\n    </tr>\n    <tr>\n      <th>2</th>\n      <td>saUsX_uimxRlCVr67Z4Jig</td>\n      <td>8g_iMtfSiwikVnbP2etR0A</td>\n      <td>YjUWPpI6HXG530lwP-fb2A</td>\n      <td>3.0</td>\n      <td>0.0</td>\n      <td>Family diner. Had the buffet. Eclectic assortm...</td>\n    </tr>\n    <tr>\n      <th>3</th>\n      <td>AqPFMleE6RsU23_auESxiA</td>\n      <td>_7bHUi9Uuf5__HHc_Q8guQ</td>\n      <td>kxX2SOes4o-D3ZQBkiMRfA</td>\n      <td>5.0</td>\n      <td>1.0</td>\n      <td>Wow!  Yummy, different,  delicious.   Our favo...</td>\n    </tr>\n    <tr>\n      <th>4</th>\n      <td>Sx8TMOWLNuJBWer-0pcmoA</td>\n      <td>bcjbaE6dDog4jkNY91ncLQ</td>\n      <td>e4Vwtrqf-wpJfwesgvdgxQ</td>\n      <td>4.0</td>\n      <td>1.0</td>\n      <td>Cute interior and owner (?) gave us tour of up...</td>\n    </tr>\n  </tbody>\n</table>\n</div>"
     },
     "execution_count": 66,
     "metadata": {},
     "output_type": "execute_result"
    }
   ],
   "source": [
    "df.head()"
   ],
   "metadata": {
    "collapsed": false
   }
  },
  {
   "cell_type": "markdown",
   "source": [
    "ADDING A SENTIMENT MODEL TO PREDICT THE SENTIMENT OF A REVIEW"
   ],
   "metadata": {
    "collapsed": false
   }
  },
  {
   "cell_type": "markdown",
   "source": [
    "This function classifies a review as being positive or negative based on its star rating.\n",
    "1-3 stars are negative\n",
    "4-5 stars are postive"
   ],
   "metadata": {
    "collapsed": false
   }
  },
  {
   "cell_type": "code",
   "execution_count": 27,
   "outputs": [],
   "source": [
    "def sentiments(stars):\n",
    "  neg = {1,2,3}\n",
    "  pos = {4,5}\n",
    "  if stars in neg:\n",
    "    return 'neg'\n",
    "  else:\n",
    "    return 'pos'"
   ],
   "metadata": {
    "collapsed": false
   }
  },
  {
   "cell_type": "code",
   "execution_count": 28,
   "outputs": [],
   "source": [
    "def starts_to_sentiment(df):\n",
    "  df  = df.drop('review_id', axis = 1)\n",
    "  df = df.drop('user_id', axis = 1)\n",
    "  neg = {1,2,3}\n",
    "  pos = {4,5}\n",
    "\n",
    "  df['sentiment'] = df['stars'].apply(lambda x: sentiments(x))\n",
    "  return df\n"
   ],
   "metadata": {
    "collapsed": false
   }
  },
  {
   "cell_type": "code",
   "execution_count": 29,
   "outputs": [
    {
     "data": {
      "text/plain": "              business_id  stars  useful  funny  cool  \\\n0  XQfwVwDr-v0ZS3_CbbE5Xw    3.0     0.0    0.0   0.0   \n1  7ATYjTIgM3jUlt4UM3IypQ    5.0     1.0    0.0   1.0   \n2  YjUWPpI6HXG530lwP-fb2A    3.0     0.0    0.0   0.0   \n3  kxX2SOes4o-D3ZQBkiMRfA    5.0     1.0    0.0   1.0   \n4  e4Vwtrqf-wpJfwesgvdgxQ    4.0     1.0    0.0   1.0   \n\n                                                text                 date  \\\n0  If you decide to eat here, just be aware it is...  2018-07-07 22:09:11   \n1  I've taken a lot of spin classes over the year...  2012-01-03 15:28:18   \n2  Family diner. Had the buffet. Eclectic assortm...  2014-02-05 20:30:30   \n3  Wow!  Yummy, different,  delicious.   Our favo...  2015-01-04 00:01:03   \n4  Cute interior and owner (?) gave us tour of up...  2017-01-14 20:54:15   \n\n  sentiment  \n0       neg  \n1       pos  \n2       neg  \n3       pos  \n4       pos  ",
      "text/html": "<div>\n<style scoped>\n    .dataframe tbody tr th:only-of-type {\n        vertical-align: middle;\n    }\n\n    .dataframe tbody tr th {\n        vertical-align: top;\n    }\n\n    .dataframe thead th {\n        text-align: right;\n    }\n</style>\n<table border=\"1\" class=\"dataframe\">\n  <thead>\n    <tr style=\"text-align: right;\">\n      <th></th>\n      <th>business_id</th>\n      <th>stars</th>\n      <th>useful</th>\n      <th>funny</th>\n      <th>cool</th>\n      <th>text</th>\n      <th>date</th>\n      <th>sentiment</th>\n    </tr>\n  </thead>\n  <tbody>\n    <tr>\n      <th>0</th>\n      <td>XQfwVwDr-v0ZS3_CbbE5Xw</td>\n      <td>3.0</td>\n      <td>0.0</td>\n      <td>0.0</td>\n      <td>0.0</td>\n      <td>If you decide to eat here, just be aware it is...</td>\n      <td>2018-07-07 22:09:11</td>\n      <td>neg</td>\n    </tr>\n    <tr>\n      <th>1</th>\n      <td>7ATYjTIgM3jUlt4UM3IypQ</td>\n      <td>5.0</td>\n      <td>1.0</td>\n      <td>0.0</td>\n      <td>1.0</td>\n      <td>I've taken a lot of spin classes over the year...</td>\n      <td>2012-01-03 15:28:18</td>\n      <td>pos</td>\n    </tr>\n    <tr>\n      <th>2</th>\n      <td>YjUWPpI6HXG530lwP-fb2A</td>\n      <td>3.0</td>\n      <td>0.0</td>\n      <td>0.0</td>\n      <td>0.0</td>\n      <td>Family diner. Had the buffet. Eclectic assortm...</td>\n      <td>2014-02-05 20:30:30</td>\n      <td>neg</td>\n    </tr>\n    <tr>\n      <th>3</th>\n      <td>kxX2SOes4o-D3ZQBkiMRfA</td>\n      <td>5.0</td>\n      <td>1.0</td>\n      <td>0.0</td>\n      <td>1.0</td>\n      <td>Wow!  Yummy, different,  delicious.   Our favo...</td>\n      <td>2015-01-04 00:01:03</td>\n      <td>pos</td>\n    </tr>\n    <tr>\n      <th>4</th>\n      <td>e4Vwtrqf-wpJfwesgvdgxQ</td>\n      <td>4.0</td>\n      <td>1.0</td>\n      <td>0.0</td>\n      <td>1.0</td>\n      <td>Cute interior and owner (?) gave us tour of up...</td>\n      <td>2017-01-14 20:54:15</td>\n      <td>pos</td>\n    </tr>\n  </tbody>\n</table>\n</div>"
     },
     "execution_count": 29,
     "metadata": {},
     "output_type": "execute_result"
    }
   ],
   "source": [
    "test = starts_to_sentiment(df)\n",
    "test.head()"
   ],
   "metadata": {
    "collapsed": false
   }
  },
  {
   "cell_type": "code",
   "execution_count": 47,
   "outputs": [],
   "source": [
    "X = test['text']\n",
    "y = test['sentiment']\n",
    "X_train, X_test, y_train, y_test = train_test_split(X,y, test_size=0.3, random_state=101)\n",
    "test_model = pipe.fit(X_train, y_train)"
   ],
   "metadata": {
    "collapsed": false
   }
  },
  {
   "cell_type": "code",
   "execution_count": 31,
   "outputs": [],
   "source": [
    "test_preds = test_model.predict(X_test)"
   ],
   "metadata": {
    "collapsed": false
   }
  },
  {
   "cell_type": "markdown",
   "source": [
    "Checking the accuracy of the review sentiment model"
   ],
   "metadata": {
    "collapsed": false
   }
  },
  {
   "cell_type": "code",
   "execution_count": 32,
   "outputs": [
    {
     "name": "stdout",
     "output_type": "stream",
     "text": [
      "              precision    recall  f1-score   support\n",
      "\n",
      "         neg       0.88      0.68      0.77    690679\n",
      "         pos       0.86      0.96      0.91   1406405\n",
      "\n",
      "    accuracy                           0.87   2097084\n",
      "   macro avg       0.87      0.82      0.84   2097084\n",
      "weighted avg       0.87      0.87      0.86   2097084\n",
      "\n"
     ]
    }
   ],
   "source": [
    "print(classification_report(y_test, test_preds))"
   ],
   "metadata": {
    "collapsed": false
   }
  },
  {
   "cell_type": "code",
   "execution_count": 48,
   "outputs": [
    {
     "data": {
      "text/plain": "array([[ 471788,  218891],\n       [  62388, 1344017]])"
     },
     "execution_count": 48,
     "metadata": {},
     "output_type": "execute_result"
    }
   ],
   "source": [
    "cm = confusion_matrix(y_test, test_preds)\n",
    "cm"
   ],
   "metadata": {
    "collapsed": false
   }
  },
  {
   "cell_type": "code",
   "execution_count": 49,
   "outputs": [
    {
     "data": {
      "text/plain": "<sklearn.metrics._plot.confusion_matrix.ConfusionMatrixDisplay at 0x7fbdcd57a8b0>"
     },
     "execution_count": 49,
     "metadata": {},
     "output_type": "execute_result"
    },
    {
     "data": {
      "text/plain": "<Figure size 432x288 with 2 Axes>",
      "image/png": "[encoded data removed]"
     },
     "metadata": {},
     "output_type": "display_data"
    }
   ],
   "source": [
    "disp_sent = ConfusionMatrixDisplay(confusion_matrix=cm)\n",
    "disp_sent.plot()"
   ],
   "metadata": {
    "collapsed": false
   }
  },
  {
   "cell_type": "code",
   "execution_count": 78,
   "outputs": [],
   "source": [
    "final_sentiment_model = pipe.fit(X, y)"
   ],
   "metadata": {
    "collapsed": false
   }
  },
  {
   "cell_type": "code",
   "execution_count": 80,
   "outputs": [
    {
     "data": {
      "text/plain": "'neg'"
     },
     "execution_count": 80,
     "metadata": {},
     "output_type": "execute_result"
    }
   ],
   "source": [
    "final_sentiment_model.predict([\"Wedge fries were super saturated with oil. Tried to send them back and waiter attempted to \"\n",
    "                      \"gaslight me into believing that it was normal due to the manner they were processed for \"\n",
    "                      \"cooking.  Whatever! I insisted that I was unhappy with the order and finally he relented and \"\n",
    "                      \"brought me a second order which were an improvement but by then, I had finished my sandwich.  \"\n",
    "                               \"Ugh. Don't appreciate having to make my case over why I won't consume poor quality \"\n",
    "                               \"food to the waiter.\"])[0]"
   ],
   "metadata": {
    "collapsed": false
   }
  },
  {
   "cell_type": "code",
   "execution_count": 83,
   "outputs": [
    {
     "data": {
      "text/plain": "array(['pos'], dtype='<U3')"
     },
     "execution_count": 83,
     "metadata": {},
     "output_type": "execute_result"
    }
   ],
   "source": [
    "final_sentiment_model.predict([\"I had cleaners from Caroline's cleaning today and I was so impressed! I usually have to touch up corners and remove streaks but not today!! It was so well done, corner to corner!! And smells great too! Now I can finally relax on a day off. And yes, I will be hiring them again!\"])"
   ],
   "metadata": {
    "collapsed": false
   }
  },
  {
   "cell_type": "markdown",
   "source": [
    "Exporting the Sentiment Review Model"
   ],
   "metadata": {
    "collapsed": false
   }
  },
  {
   "cell_type": "code",
   "execution_count": 84,
   "outputs": [
    {
     "data": {
      "text/plain": "['yelp_review_sentiment_model.pkl']"
     },
     "execution_count": 84,
     "metadata": {},
     "output_type": "execute_result"
    }
   ],
   "source": [
    "joblib.dump(final_sentiment_model, 'yelp_review_sentiment_model.pkl')"
   ],
   "metadata": {
    "collapsed": false
   }
  },
  {
   "cell_type": "code",
   "execution_count": 85,
   "outputs": [],
   "source": [
    "mdl = joblib.load('yelp_review_sentiment_model.pkl')"
   ],
   "metadata": {
    "collapsed": false
   }
  },
  {
   "cell_type": "code",
   "execution_count": 86,
   "outputs": [
    {
     "data": {
      "text/plain": "array(['pos'], dtype='<U3')"
     },
     "execution_count": 86,
     "metadata": {},
     "output_type": "execute_result"
    }
   ],
   "source": [
    "mdl.predict([\"Caroline is very responsive with communication. Her team of 2 did a great job of cleaning my parents home which has never been thoroughly and professionally cleaned. My mom was happy with how clean her kitchen was.  I got several quotes and her price was most reasonable.  I will most definitely use them again.\"])"
   ],
   "metadata": {
    "collapsed": false
   }
  }
 ],
 "metadata": {
  "kernelspec": {
   "display_name": "Python 3",
   "language": "python",
   "name": "python3"
  },
  "language_info": {
   "codemirror_mode": {
    "name": "ipython",
    "version": 2
   },
   "file_extension": ".py",
   "mimetype": "text/x-python",
   "name": "python",
   "nbconvert_exporter": "python",
   "pygments_lexer": "ipython2",
   "version": "2.7.6"
  }
 },
 "nbformat": 4,
 "nbformat_minor": 0
}
